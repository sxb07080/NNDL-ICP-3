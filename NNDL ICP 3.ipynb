{
 "cells": [
  {
   "cell_type": "code",
   "execution_count": 2,
   "id": "initial_id",
   "metadata": {
    "collapsed": true,
    "ExecuteTime": {
     "end_time": "2024-01-24T18:07:04.187940Z",
     "start_time": "2024-01-24T18:07:04.181187Z"
    }
   },
   "outputs": [
    {
     "name": "stdout",
     "output_type": "stream",
     "text": [
      "Number of Employees count:  6\n",
      "Average Salary of Employees:  261259.16666666666\n"
     ]
    }
   ],
   "source": [
    "\"\"\"\n",
    "Create a class Employee and then do the following\n",
    "• Create a data member to count the number of Employees\n",
    "• Create a constructor to initialize name, family, salary, department\n",
    "• Create a function to average salary\n",
    "• Create a Fulltime Employee class and it should inherit the properties of Employee class\n",
    "• Create the instances of Fulltime Employee class and Employee class and call their member functions.\n",
    "\"\"\"\n",
    "\n",
    "# Employee class\n",
    "class Employee:\n",
    "    # Data member to count the number of employees\n",
    "    count = 0 \n",
    "    \n",
    "    def __init__(self, first_name, family_name, salary, department):\n",
    "        self._first_name = first_name    # Initialize name\n",
    "        self._family_name = family_name  # Initialize family \n",
    "        self._salary = salary            # Initialize salary\n",
    "        self._department = department    # Initialize department\n",
    "        # Count increases when a new employee is added\n",
    "        Employee.count += 1\n",
    "\n",
    "    def __str__(self):\n",
    "        return f\"{self.__class__.__name__}: {self._first_name} {self._family_name}\\n\" \\\n",
    "               f\"Salary: {self._salary}\", f\"Department: {self._department}\"\n",
    "\n",
    "# Function to calculate average salary\n",
    "def average_salary(e_list):\n",
    "    total_salary = sum(e._salary for e in e_list)\n",
    "    return total_salary / len(e_list) if len(e_list) > 0 else 0\n",
    "\n",
    "# FulltimeEmployee class & it inherits the properties of Employee class\n",
    "class FullTimeEmployee(Employee):\n",
    "    def __init__(self, name, family, salary, department, type=\"Full-Time\"):\n",
    "        # Calling the constructor of the parent class\n",
    "        super().__init__(name, family, salary, department)\n",
    "        # Additional attribute for FullTimeEmployee\n",
    "        self.type = type\n",
    "\n",
    "\n",
    "if __name__ == '__main__':\n",
    "    try:\n",
    "        # Created instances of different employee types\n",
    "        e1 = Employee('Donald', 'Trump', 676879, 'HR')\n",
    "        e2 = FullTimeEmployee('Elon', 'Musk', 546576,'Developement', )\n",
    "        e3 = Employee('Taylor', 'Swift', 98909, 'Analyst')\n",
    "        e4 = Employee('Joe', 'Biden', 75356,'IT' )\n",
    "        e5 = FullTimeEmployee('Rayan', 'Gosling', 94372, 'Manager','Full-time')\n",
    "        e6 = FullTimeEmployee('Narendra', 'Modi', 75463, 'Advertisement')\n",
    "\n",
    "        # Create a list of employee objects\n",
    "        e_list = [e1, e2, e3, e4, e5, e6]\n",
    "\n",
    "        print(\"Number of Employees count: \", Employee.count)\n",
    "        print(\"Average Salary of Employees: \", average_salary(e_list))\n",
    "\n",
    "    except ValueError as e:\n",
    "        print(e)  # Print error message if a ValueError occurs during object creation\n"
   ]
  },
  {
   "cell_type": "code",
   "execution_count": 1,
   "outputs": [
    {
     "name": "stdout",
     "output_type": "stream",
     "text": [
      "Original Array: \n",
      "[ 2.04391979 13.57551316 11.89654703  7.02705226 18.54430972 11.02668367\n",
      " 18.67915395  1.66549874  2.76916739  2.69034035  7.09736227 12.49228219\n",
      "  8.79051143  9.83916107  3.13951979 16.35411603 11.69919163 13.1045387\n",
      " 18.14720158  4.61830278]\n",
      "\n",
      "Reshaped Array with Max Values Replaced by 0 (axis 1): \n",
      "[[ 2.04391979 13.57551316 11.89654703  7.02705226  0.        ]\n",
      " [11.02668367  0.          1.66549874  2.76916739  2.69034035]\n",
      " [ 7.09736227  0.          8.79051143  9.83916107  3.13951979]\n",
      " [16.35411603 11.69919163 13.1045387   0.          4.61830278]]\n"
     ]
    }
   ],
   "source": [
    "\"\"\"\n",
    "2. Numpy\n",
    "Using NumPy create random vector of size 20 having only float in the range 1-20.\n",
    "Then reshape the array to 4 by 5\n",
    "Then replace the max in each row by 0 (axis=1)\n",
    "(you can NOT implement it via for loop)\n",
    "\"\"\"\n",
    "\n",
    "import numpy as np\n",
    "\n",
    "def replace_max_with_zero(arr):\n",
    "    # Reshape the array to a 4 by 5 matrix\n",
    "    reshaped_array = arr.reshape(4, 5)\n",
    "    # Finds max values in each row\n",
    "    max = np.argmax(reshaped_array, axis=1)\n",
    "    # Replace max values with 0 in each row\n",
    "    reshaped_array[np.arange(reshaped_array.shape[0]), max] = 0\n",
    "    return reshaped_array\n",
    "\n",
    "if __name__ == \"__main__\":\n",
    "    # Random vector of size 20 with floats in the range 1-20\n",
    "    random_vector = np.random.uniform(1, 20, 20)\n",
    "\n",
    "    print(\"Original Array: \")\n",
    "    print(random_vector)\n",
    "\n",
    "    # Calls the function to reshape and replace max values with 0\n",
    "    result_array = replace_max_with_zero(random_vector)\n",
    "\n",
    "    print(\"\\nReshaped Array with Max Values Replaced by 0 (axis 1): \")\n",
    "    print(result_array)\n"
   ],
   "metadata": {
    "collapsed": false,
    "ExecuteTime": {
     "end_time": "2024-01-24T17:59:47.811969Z",
     "start_time": "2024-01-24T17:59:47.673761Z"
    }
   },
   "id": "a250af392ac0a097"
  },
  {
   "cell_type": "code",
   "execution_count": 5,
   "outputs": [],
   "source": [],
   "metadata": {
    "collapsed": false,
    "ExecuteTime": {
     "end_time": "2024-01-24T16:39:12.451850Z",
     "start_time": "2024-01-24T16:39:12.443545Z"
    }
   },
   "id": "e591582dbd5a314d"
  }
 ],
 "metadata": {
  "kernelspec": {
   "display_name": "Python 3",
   "language": "python",
   "name": "python3"
  },
  "language_info": {
   "codemirror_mode": {
    "name": "ipython",
    "version": 2
   },
   "file_extension": ".py",
   "mimetype": "text/x-python",
   "name": "python",
   "nbconvert_exporter": "python",
   "pygments_lexer": "ipython2",
   "version": "2.7.6"
  }
 },
 "nbformat": 4,
 "nbformat_minor": 5
}
